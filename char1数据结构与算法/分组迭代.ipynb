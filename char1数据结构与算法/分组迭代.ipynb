{
 "cells": [
  {
   "cell_type": "code",
   "execution_count": 1,
   "metadata": {
    "collapsed": true
   },
   "outputs": [],
   "source": [
    "rows = [\n",
    "        {'address': '5412 N CLARK', 'date': '07/01/2012'},\n",
    "        {'address': '5148 N CLARK', 'date': '07/04/2012'},\n",
    "        {'address': '5800 E 58TH', 'date': '07/02/2012'},\n",
    "        {'address': '2122 N CLARK', 'date': '07/03/2012'},\n",
    "        {'address': '5645 N RAVENSWOOD', 'date': '07/02/2012'},\n",
    "        {'address': '1060 W ADDISON', 'date': '07/02/2012'},\n",
    "        {'address': '4801 N BROADWAY', 'date': '07/01/2012'},\n",
    "        {'address': '1039 W GRANVILLE', 'date': '07/04/2012'},\n",
    "    ]"
   ]
  },
  {
   "cell_type": "code",
   "execution_count": 3,
   "outputs": [
    {
     "data": {
      "text/plain": "[{'address': '5412 N CLARK', 'date': '07/01/2012'},\n {'address': '4801 N BROADWAY', 'date': '07/01/2012'},\n {'address': '5800 E 58TH', 'date': '07/02/2012'},\n {'address': '5645 N RAVENSWOOD', 'date': '07/02/2012'},\n {'address': '1060 W ADDISON', 'date': '07/02/2012'},\n {'address': '2122 N CLARK', 'date': '07/03/2012'},\n {'address': '5148 N CLARK', 'date': '07/04/2012'},\n {'address': '1039 W GRANVILLE', 'date': '07/04/2012'}]"
     },
     "execution_count": 3,
     "metadata": {},
     "output_type": "execute_result"
    }
   ],
   "source": [
    "from operator import itemgetter\n",
    "from itertools import groupby\n",
    "\n",
    "# 按时间排序\n",
    "rows.sort(key=itemgetter('date'))\n",
    "\n",
    "rows"
   ],
   "metadata": {
    "collapsed": false,
    "pycharm": {
     "name": "#%%\n"
    }
   }
  },
  {
   "cell_type": "code",
   "execution_count": 4,
   "outputs": [
    {
     "name": "stdout",
     "output_type": "stream",
     "text": [
      "07/01/2012\n",
      "  {'address': '5412 N CLARK', 'date': '07/01/2012'}\n",
      "  {'address': '4801 N BROADWAY', 'date': '07/01/2012'}\n",
      "07/02/2012\n",
      "  {'address': '5800 E 58TH', 'date': '07/02/2012'}\n",
      "  {'address': '5645 N RAVENSWOOD', 'date': '07/02/2012'}\n",
      "  {'address': '1060 W ADDISON', 'date': '07/02/2012'}\n",
      "07/03/2012\n",
      "  {'address': '2122 N CLARK', 'date': '07/03/2012'}\n",
      "07/04/2012\n",
      "  {'address': '5148 N CLARK', 'date': '07/04/2012'}\n",
      "  {'address': '1039 W GRANVILLE', 'date': '07/04/2012'}\n"
     ]
    }
   ],
   "source": [
    "for date, item in groupby(rows, key=itemgetter('date')):\n",
    "    print(date)\n",
    "    for i in item:\n",
    "        print(' ', i)\n"
   ],
   "metadata": {
    "collapsed": false,
    "pycharm": {
     "name": "#%%\n"
    }
   }
  },
  {
   "cell_type": "code",
   "execution_count": 6,
   "outputs": [
    {
     "data": {
      "text/plain": "defaultdict(list,\n            {'07/01/2012': [{'address': '5412 N CLARK', 'date': '07/01/2012'},\n              {'address': '4801 N BROADWAY', 'date': '07/01/2012'}],\n             '07/02/2012': [{'address': '5800 E 58TH', 'date': '07/02/2012'},\n              {'address': '5645 N RAVENSWOOD', 'date': '07/02/2012'},\n              {'address': '1060 W ADDISON', 'date': '07/02/2012'}],\n             '07/03/2012': [{'address': '2122 N CLARK', 'date': '07/03/2012'}],\n             '07/04/2012': [{'address': '5148 N CLARK', 'date': '07/04/2012'},\n              {'address': '1039 W GRANVILLE', 'date': '07/04/2012'}]})"
     },
     "execution_count": 6,
     "metadata": {},
     "output_type": "execute_result"
    }
   ],
   "source": [
    "# 一键多值字典\n",
    "from collections import defaultdict\n",
    "rows_by_date = defaultdict(list)\n",
    "for row in rows:\n",
    "    rows_by_date[row['date']].append(row)"
   ],
   "metadata": {
    "collapsed": false,
    "pycharm": {
     "name": "#%%\n"
    }
   }
  },
  {
   "cell_type": "code",
   "execution_count": 7,
   "outputs": [
    {
     "name": "stdout",
     "output_type": "stream",
     "text": [
      "{'address': '5412 N CLARK', 'date': '07/01/2012'}\n",
      "{'address': '4801 N BROADWAY', 'date': '07/01/2012'}\n"
     ]
    }
   ],
   "source": [
    "for r in rows_by_date['07/01/2012']:\n",
    "    print(r)"
   ],
   "metadata": {
    "collapsed": false,
    "pycharm": {
     "name": "#%%\n"
    }
   }
  }
 ],
 "metadata": {
  "kernelspec": {
   "display_name": "Python 3",
   "language": "python",
   "name": "python3"
  },
  "language_info": {
   "codemirror_mode": {
    "name": "ipython",
    "version": 2
   },
   "file_extension": ".py",
   "mimetype": "text/x-python",
   "name": "python",
   "nbconvert_exporter": "python",
   "pygments_lexer": "ipython2",
   "version": "2.7.6"
  }
 },
 "nbformat": 4,
 "nbformat_minor": 0
}